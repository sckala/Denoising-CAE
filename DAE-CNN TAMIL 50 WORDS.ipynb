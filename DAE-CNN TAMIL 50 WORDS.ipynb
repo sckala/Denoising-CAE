{
 "cells": [
  {
   "cell_type": "markdown",
   "metadata": {
    "id": "5i0PhlyFbGyz"
   },
   "source": [
    "# Importing the libraries to the Notebook"
   ]
  },
  {
   "cell_type": "code",
   "execution_count": null,
   "metadata": {
    "colab": {
     "base_uri": "https://localhost:8080/"
    },
    "id": "5hP63yJAhs-6",
    "outputId": "940d34ca-8788-40d0-c64f-f5466e47bed5"
   },
   "outputs": [],
   "source": [
    "import tensorflow as tf\n",
    "from tensorflow.keras import Sequential\n",
    "from tensorflow.keras.layers import Flatten, Dense, Dropout, BatchNormalization, Conv2D, MaxPool2D\n",
    "from tensorflow.keras.optimizers import Adam\n",
    "from tensorflow.keras.preprocessing import image\n",
    "print(tf.__version__)\n",
    "import cv2\n",
    "from keras.callbacks import TensorBoard"
   ]
  },
  {
   "cell_type": "code",
   "execution_count": null,
   "metadata": {},
   "outputs": [],
   "source": []
  },
  {
   "cell_type": "code",
   "execution_count": 1,
   "metadata": {},
   "outputs": [
    {
     "name": "stdout",
     "output_type": "stream",
     "text": [
      "2.1.0\n"
     ]
    }
   ],
   "source": [
    "import tensorflow as tf\n",
    "from tensorflow.keras import Sequential\n",
    "from tensorflow.keras.layers import Flatten, Dense, Dropout, BatchNormalization, Conv2D, MaxPool2D\n",
    "from tensorflow.keras.optimizers import Adam\n",
    "from tensorflow.keras.preprocessing import image\n",
    "print(tf.__version__)\n",
    "import cv2"
   ]
  },
  {
   "cell_type": "code",
   "execution_count": null,
   "metadata": {},
   "outputs": [],
   "source": [
    "!pip install -U numpy"
   ]
  },
  {
   "cell_type": "code",
   "execution_count": 2,
   "metadata": {
    "id": "--gjFv_ciElk"
   },
   "outputs": [],
   "source": [
    "import numpy as np\n",
    "import pandas as pd\n",
    "import matplotlib.pyplot as plt\n",
    "from sklearn.model_selection import train_test_split\n",
    "from tqdm import tqdm"
   ]
  },
  {
   "cell_type": "code",
   "execution_count": 3,
   "metadata": {},
   "outputs": [],
   "source": [
    "import os\n",
    "os.environ['KMP_DUPLICATE_LIB_OK']='True'"
   ]
  },
  {
   "cell_type": "markdown",
   "metadata": {
    "id": "MpfhuhYbbQD1"
   },
   "source": [
    "### loading the CSV file to the Notebook"
   ]
  },
  {
   "cell_type": "code",
   "execution_count": 4,
   "metadata": {
    "id": "R_sdhNMXiJ3k"
   },
   "outputs": [],
   "source": [
    "df_train = pd.read_csv(r'C:\\Users\\GPU\\Desktop\\DAE CODE\\DATA\\TRAIN CNN 18000.csv')"
   ]
  },
  {
   "cell_type": "code",
   "execution_count": 5,
   "metadata": {
    "colab": {
     "base_uri": "https://localhost:8080/",
     "height": 206
    },
    "id": "PDk9G2JiiPZB",
    "outputId": "ecd9dab7-4bb8-4393-fc88-20dd25371bdd"
   },
   "outputs": [
    {
     "data": {
      "text/html": [
       "<div>\n",
       "<style scoped>\n",
       "    .dataframe tbody tr th:only-of-type {\n",
       "        vertical-align: middle;\n",
       "    }\n",
       "\n",
       "    .dataframe tbody tr th {\n",
       "        vertical-align: top;\n",
       "    }\n",
       "\n",
       "    .dataframe thead th {\n",
       "        text-align: right;\n",
       "    }\n",
       "</style>\n",
       "<table border=\"1\" class=\"dataframe\">\n",
       "  <thead>\n",
       "    <tr style=\"text-align: right;\">\n",
       "      <th></th>\n",
       "      <th>NO</th>\n",
       "      <th>ID</th>\n",
       "      <th>WORD</th>\n",
       "      <th>BATHROOM</th>\n",
       "      <th>BAYAM</th>\n",
       "      <th>DHAAGAM</th>\n",
       "      <th>DOCTOR</th>\n",
       "      <th>HELP</th>\n",
       "      <th>ILUKKUTHU</th>\n",
       "      <th>INNAIKKU</th>\n",
       "      <th>...</th>\n",
       "      <th>THOOKKAM</th>\n",
       "      <th>UDAVI</th>\n",
       "      <th>VAANDHI</th>\n",
       "      <th>VAEGAMA</th>\n",
       "      <th>VALIKUDHU</th>\n",
       "      <th>VANAKKAM</th>\n",
       "      <th>VENDAAM</th>\n",
       "      <th>VENUM</th>\n",
       "      <th>VERKUTHU</th>\n",
       "      <th>VILUNTHUTEN</th>\n",
       "    </tr>\n",
       "  </thead>\n",
       "  <tbody>\n",
       "    <tr>\n",
       "      <th>0</th>\n",
       "      <td>1</td>\n",
       "      <td>BATHROOM_F01_B2_CW02_M2_L</td>\n",
       "      <td>BATHROOM</td>\n",
       "      <td>1</td>\n",
       "      <td>0</td>\n",
       "      <td>0</td>\n",
       "      <td>0</td>\n",
       "      <td>0</td>\n",
       "      <td>0</td>\n",
       "      <td>0</td>\n",
       "      <td>...</td>\n",
       "      <td>0</td>\n",
       "      <td>0</td>\n",
       "      <td>0</td>\n",
       "      <td>0</td>\n",
       "      <td>0</td>\n",
       "      <td>0</td>\n",
       "      <td>0</td>\n",
       "      <td>0</td>\n",
       "      <td>0</td>\n",
       "      <td>0</td>\n",
       "    </tr>\n",
       "    <tr>\n",
       "      <th>1</th>\n",
       "      <td>2</td>\n",
       "      <td>BATHROOM_F01_B2_CW02_M2_L_A1</td>\n",
       "      <td>BATHROOM</td>\n",
       "      <td>1</td>\n",
       "      <td>0</td>\n",
       "      <td>0</td>\n",
       "      <td>0</td>\n",
       "      <td>0</td>\n",
       "      <td>0</td>\n",
       "      <td>0</td>\n",
       "      <td>...</td>\n",
       "      <td>0</td>\n",
       "      <td>0</td>\n",
       "      <td>0</td>\n",
       "      <td>0</td>\n",
       "      <td>0</td>\n",
       "      <td>0</td>\n",
       "      <td>0</td>\n",
       "      <td>0</td>\n",
       "      <td>0</td>\n",
       "      <td>0</td>\n",
       "    </tr>\n",
       "    <tr>\n",
       "      <th>2</th>\n",
       "      <td>3</td>\n",
       "      <td>BATHROOM_F01_B2_CW02_M2_L_A2</td>\n",
       "      <td>BATHROOM</td>\n",
       "      <td>1</td>\n",
       "      <td>0</td>\n",
       "      <td>0</td>\n",
       "      <td>0</td>\n",
       "      <td>0</td>\n",
       "      <td>0</td>\n",
       "      <td>0</td>\n",
       "      <td>...</td>\n",
       "      <td>0</td>\n",
       "      <td>0</td>\n",
       "      <td>0</td>\n",
       "      <td>0</td>\n",
       "      <td>0</td>\n",
       "      <td>0</td>\n",
       "      <td>0</td>\n",
       "      <td>0</td>\n",
       "      <td>0</td>\n",
       "      <td>0</td>\n",
       "    </tr>\n",
       "    <tr>\n",
       "      <th>3</th>\n",
       "      <td>4</td>\n",
       "      <td>BATHROOM_F01_B2_CW02_M2_L_A3</td>\n",
       "      <td>BATHROOM</td>\n",
       "      <td>1</td>\n",
       "      <td>0</td>\n",
       "      <td>0</td>\n",
       "      <td>0</td>\n",
       "      <td>0</td>\n",
       "      <td>0</td>\n",
       "      <td>0</td>\n",
       "      <td>...</td>\n",
       "      <td>0</td>\n",
       "      <td>0</td>\n",
       "      <td>0</td>\n",
       "      <td>0</td>\n",
       "      <td>0</td>\n",
       "      <td>0</td>\n",
       "      <td>0</td>\n",
       "      <td>0</td>\n",
       "      <td>0</td>\n",
       "      <td>0</td>\n",
       "    </tr>\n",
       "    <tr>\n",
       "      <th>4</th>\n",
       "      <td>5</td>\n",
       "      <td>BATHROOM_F01_B3_CW02_M3_L</td>\n",
       "      <td>BATHROOM</td>\n",
       "      <td>1</td>\n",
       "      <td>0</td>\n",
       "      <td>0</td>\n",
       "      <td>0</td>\n",
       "      <td>0</td>\n",
       "      <td>0</td>\n",
       "      <td>0</td>\n",
       "      <td>...</td>\n",
       "      <td>0</td>\n",
       "      <td>0</td>\n",
       "      <td>0</td>\n",
       "      <td>0</td>\n",
       "      <td>0</td>\n",
       "      <td>0</td>\n",
       "      <td>0</td>\n",
       "      <td>0</td>\n",
       "      <td>0</td>\n",
       "      <td>0</td>\n",
       "    </tr>\n",
       "  </tbody>\n",
       "</table>\n",
       "<p>5 rows × 53 columns</p>\n",
       "</div>"
      ],
      "text/plain": [
       "   NO                            ID      WORD  BATHROOM  BAYAM  DHAAGAM  \\\n",
       "0   1     BATHROOM_F01_B2_CW02_M2_L  BATHROOM         1      0        0   \n",
       "1   2  BATHROOM_F01_B2_CW02_M2_L_A1  BATHROOM         1      0        0   \n",
       "2   3  BATHROOM_F01_B2_CW02_M2_L_A2  BATHROOM         1      0        0   \n",
       "3   4  BATHROOM_F01_B2_CW02_M2_L_A3  BATHROOM         1      0        0   \n",
       "4   5     BATHROOM_F01_B3_CW02_M3_L  BATHROOM         1      0        0   \n",
       "\n",
       "   DOCTOR  HELP  ILUKKUTHU  INNAIKKU  ...  THOOKKAM  UDAVI  VAANDHI  VAEGAMA  \\\n",
       "0       0     0          0         0  ...         0      0        0        0   \n",
       "1       0     0          0         0  ...         0      0        0        0   \n",
       "2       0     0          0         0  ...         0      0        0        0   \n",
       "3       0     0          0         0  ...         0      0        0        0   \n",
       "4       0     0          0         0  ...         0      0        0        0   \n",
       "\n",
       "   VALIKUDHU  VANAKKAM  VENDAAM  VENUM  VERKUTHU  VILUNTHUTEN  \n",
       "0          0         0        0      0         0            0  \n",
       "1          0         0        0      0         0            0  \n",
       "2          0         0        0      0         0            0  \n",
       "3          0         0        0      0         0            0  \n",
       "4          0         0        0      0         0            0  \n",
       "\n",
       "[5 rows x 53 columns]"
      ]
     },
     "execution_count": 5,
     "metadata": {},
     "output_type": "execute_result"
    }
   ],
   "source": [
    "df_train.head()"
   ]
  },
  {
   "cell_type": "code",
   "execution_count": 6,
   "metadata": {
    "scrolled": true
   },
   "outputs": [
    {
     "data": {
      "text/plain": [
       "(18000, 53)"
      ]
     },
     "execution_count": 6,
     "metadata": {},
     "output_type": "execute_result"
    }
   ],
   "source": [
    "df_train.shape"
   ]
  },
  {
   "cell_type": "code",
   "execution_count": 7,
   "metadata": {
    "colab": {
     "base_uri": "https://localhost:8080/"
    },
    "id": "P9ba-SLDiReG",
    "outputId": "866ef8a0-8e6e-46cd-ee49-9f8a6fadef17",
    "scrolled": true
   },
   "outputs": [
    {
     "data": {
      "text/plain": [
       "Index(['NO', 'ID', 'WORD', 'BATHROOM', 'BAYAM', 'DHAAGAM', 'DOCTOR', 'HELP',\n",
       "       'ILUKKUTHU', 'INNAIKKU', 'IRAIKUTHU', 'IRAKI', 'JURAM', 'KAAPAATHU',\n",
       "       'KAASU', 'KAAYAM', 'KASHTAM', 'KEKALA', 'KEKUDHU', 'KONJAM',\n",
       "       'KULIRUTHU', 'KUTHUTHU', 'MARUNDHU', 'MATHIRAI', 'MAYAKKAM', 'MOODU',\n",
       "       'MUDIYALA', 'MUNNADI', 'NAALAIKKU', 'NANRI', 'NETHU', 'NIRAIYA', 'PAAL',\n",
       "       'PAAPA', 'PASIKUDHU', 'PESUNGA', 'PINNADI', 'RATTHAM', 'SAAPADU',\n",
       "       'THANNI', 'THERIYALA', 'THERIYUM', 'THIRA', 'THOOKKAM', 'UDAVI',\n",
       "       'VAANDHI', 'VAEGAMA', 'VALIKUDHU', 'VANAKKAM', 'VENDAAM', 'VENUM',\n",
       "       'VERKUTHU', 'VILUNTHUTEN'],\n",
       "      dtype='object')"
      ]
     },
     "execution_count": 7,
     "metadata": {},
     "output_type": "execute_result"
    }
   ],
   "source": [
    "df_train.columns"
   ]
  },
  {
   "cell_type": "code",
   "execution_count": 8,
   "metadata": {
    "scrolled": true
   },
   "outputs": [],
   "source": [
    "df_test = pd.read_csv(r'C:\\Users\\GPU\\Desktop\\DAE CODE\\DATA\\TEST CNN DATA.csv')"
   ]
  },
  {
   "cell_type": "code",
   "execution_count": 9,
   "metadata": {},
   "outputs": [
    {
     "data": {
      "text/html": [
       "<div>\n",
       "<style scoped>\n",
       "    .dataframe tbody tr th:only-of-type {\n",
       "        vertical-align: middle;\n",
       "    }\n",
       "\n",
       "    .dataframe tbody tr th {\n",
       "        vertical-align: top;\n",
       "    }\n",
       "\n",
       "    .dataframe thead th {\n",
       "        text-align: right;\n",
       "    }\n",
       "</style>\n",
       "<table border=\"1\" class=\"dataframe\">\n",
       "  <thead>\n",
       "    <tr style=\"text-align: right;\">\n",
       "      <th></th>\n",
       "      <th>NO</th>\n",
       "      <th>ID</th>\n",
       "      <th>WORD</th>\n",
       "      <th>BATHROOM</th>\n",
       "      <th>BAYAM</th>\n",
       "      <th>DHAAGAM</th>\n",
       "      <th>DOCTOR</th>\n",
       "      <th>HELP</th>\n",
       "      <th>ILUKKUTHU</th>\n",
       "      <th>INNAIKKU</th>\n",
       "      <th>...</th>\n",
       "      <th>THOOKKAM</th>\n",
       "      <th>UDAVI</th>\n",
       "      <th>VAANDHI</th>\n",
       "      <th>VAEGAMA</th>\n",
       "      <th>VALIKUDHU</th>\n",
       "      <th>VANAKKAM</th>\n",
       "      <th>VENDAAM</th>\n",
       "      <th>VENUM</th>\n",
       "      <th>VERKUTHU</th>\n",
       "      <th>VILUNTHUTEN</th>\n",
       "    </tr>\n",
       "  </thead>\n",
       "  <tbody>\n",
       "    <tr>\n",
       "      <th>0</th>\n",
       "      <td>1</td>\n",
       "      <td>BATHROOM_F01_B1_CW02_M1_L_A1</td>\n",
       "      <td>BATHROOM</td>\n",
       "      <td>1</td>\n",
       "      <td>0</td>\n",
       "      <td>0</td>\n",
       "      <td>0</td>\n",
       "      <td>0</td>\n",
       "      <td>0</td>\n",
       "      <td>0</td>\n",
       "      <td>...</td>\n",
       "      <td>0</td>\n",
       "      <td>0</td>\n",
       "      <td>0</td>\n",
       "      <td>0</td>\n",
       "      <td>0</td>\n",
       "      <td>0</td>\n",
       "      <td>0</td>\n",
       "      <td>0</td>\n",
       "      <td>0</td>\n",
       "      <td>0</td>\n",
       "    </tr>\n",
       "    <tr>\n",
       "      <th>1</th>\n",
       "      <td>2</td>\n",
       "      <td>BATHROOM_F02_B1_CW02_M1_VL_A1</td>\n",
       "      <td>BATHROOM</td>\n",
       "      <td>1</td>\n",
       "      <td>0</td>\n",
       "      <td>0</td>\n",
       "      <td>0</td>\n",
       "      <td>0</td>\n",
       "      <td>0</td>\n",
       "      <td>0</td>\n",
       "      <td>...</td>\n",
       "      <td>0</td>\n",
       "      <td>0</td>\n",
       "      <td>0</td>\n",
       "      <td>0</td>\n",
       "      <td>0</td>\n",
       "      <td>0</td>\n",
       "      <td>0</td>\n",
       "      <td>0</td>\n",
       "      <td>0</td>\n",
       "      <td>0</td>\n",
       "    </tr>\n",
       "    <tr>\n",
       "      <th>2</th>\n",
       "      <td>3</td>\n",
       "      <td>BATHROOM_F03_B1_CW02_M1_VL_A1</td>\n",
       "      <td>BATHROOM</td>\n",
       "      <td>1</td>\n",
       "      <td>0</td>\n",
       "      <td>0</td>\n",
       "      <td>0</td>\n",
       "      <td>0</td>\n",
       "      <td>0</td>\n",
       "      <td>0</td>\n",
       "      <td>...</td>\n",
       "      <td>0</td>\n",
       "      <td>0</td>\n",
       "      <td>0</td>\n",
       "      <td>0</td>\n",
       "      <td>0</td>\n",
       "      <td>0</td>\n",
       "      <td>0</td>\n",
       "      <td>0</td>\n",
       "      <td>0</td>\n",
       "      <td>0</td>\n",
       "    </tr>\n",
       "    <tr>\n",
       "      <th>3</th>\n",
       "      <td>4</td>\n",
       "      <td>BATHROOM_F04_B1_CW02_M1_L_A1</td>\n",
       "      <td>BATHROOM</td>\n",
       "      <td>1</td>\n",
       "      <td>0</td>\n",
       "      <td>0</td>\n",
       "      <td>0</td>\n",
       "      <td>0</td>\n",
       "      <td>0</td>\n",
       "      <td>0</td>\n",
       "      <td>...</td>\n",
       "      <td>0</td>\n",
       "      <td>0</td>\n",
       "      <td>0</td>\n",
       "      <td>0</td>\n",
       "      <td>0</td>\n",
       "      <td>0</td>\n",
       "      <td>0</td>\n",
       "      <td>0</td>\n",
       "      <td>0</td>\n",
       "      <td>0</td>\n",
       "    </tr>\n",
       "    <tr>\n",
       "      <th>4</th>\n",
       "      <td>5</td>\n",
       "      <td>BATHROOM_F05_B1_CW02_M1_M_A1</td>\n",
       "      <td>BATHROOM</td>\n",
       "      <td>1</td>\n",
       "      <td>0</td>\n",
       "      <td>0</td>\n",
       "      <td>0</td>\n",
       "      <td>0</td>\n",
       "      <td>0</td>\n",
       "      <td>0</td>\n",
       "      <td>...</td>\n",
       "      <td>0</td>\n",
       "      <td>0</td>\n",
       "      <td>0</td>\n",
       "      <td>0</td>\n",
       "      <td>0</td>\n",
       "      <td>0</td>\n",
       "      <td>0</td>\n",
       "      <td>0</td>\n",
       "      <td>0</td>\n",
       "      <td>0</td>\n",
       "    </tr>\n",
       "  </tbody>\n",
       "</table>\n",
       "<p>5 rows × 53 columns</p>\n",
       "</div>"
      ],
      "text/plain": [
       "   NO                             ID      WORD  BATHROOM  BAYAM  DHAAGAM  \\\n",
       "0   1   BATHROOM_F01_B1_CW02_M1_L_A1  BATHROOM         1      0        0   \n",
       "1   2  BATHROOM_F02_B1_CW02_M1_VL_A1  BATHROOM         1      0        0   \n",
       "2   3  BATHROOM_F03_B1_CW02_M1_VL_A1  BATHROOM         1      0        0   \n",
       "3   4   BATHROOM_F04_B1_CW02_M1_L_A1  BATHROOM         1      0        0   \n",
       "4   5   BATHROOM_F05_B1_CW02_M1_M_A1  BATHROOM         1      0        0   \n",
       "\n",
       "   DOCTOR  HELP  ILUKKUTHU  INNAIKKU  ...  THOOKKAM  UDAVI  VAANDHI  VAEGAMA  \\\n",
       "0       0     0          0         0  ...         0      0        0        0   \n",
       "1       0     0          0         0  ...         0      0        0        0   \n",
       "2       0     0          0         0  ...         0      0        0        0   \n",
       "3       0     0          0         0  ...         0      0        0        0   \n",
       "4       0     0          0         0  ...         0      0        0        0   \n",
       "\n",
       "   VALIKUDHU  VANAKKAM  VENDAAM  VENUM  VERKUTHU  VILUNTHUTEN  \n",
       "0          0         0        0      0         0            0  \n",
       "1          0         0        0      0         0            0  \n",
       "2          0         0        0      0         0            0  \n",
       "3          0         0        0      0         0            0  \n",
       "4          0         0        0      0         0            0  \n",
       "\n",
       "[5 rows x 53 columns]"
      ]
     },
     "execution_count": 9,
     "metadata": {},
     "output_type": "execute_result"
    }
   ],
   "source": [
    "df_test.head()"
   ]
  },
  {
   "cell_type": "code",
   "execution_count": 10,
   "metadata": {},
   "outputs": [
    {
     "data": {
      "text/plain": [
       "(1500, 53)"
      ]
     },
     "execution_count": 10,
     "metadata": {},
     "output_type": "execute_result"
    }
   ],
   "source": [
    "df_test.shape"
   ]
  },
  {
   "cell_type": "code",
   "execution_count": 11,
   "metadata": {},
   "outputs": [
    {
     "data": {
      "text/plain": [
       "Index(['NO', 'ID', 'WORD', 'BATHROOM', 'BAYAM', 'DHAAGAM', 'DOCTOR', 'HELP',\n",
       "       'ILUKKUTHU', 'INNAIKKU', 'IRAIKUTHU', 'IRAKI', 'JURAM', 'KAAPAATHU',\n",
       "       'KAASU', 'KAAYAM', 'KASHTAM', 'KEKALA', 'KEKUDHU', 'KONJAM',\n",
       "       'KULIRUTHU', 'KUTHUTHU', 'MARUNDHU', 'MATHIRAI', 'MAYAKKAM', 'MOODU',\n",
       "       'MUDIYALA', 'MUNNADI', 'NAALAIKKU', 'NANRI', 'NETHU', 'NIRAIYA', 'PAAL',\n",
       "       'PAAPA', 'PASIKUDHU', 'PESUNGA', 'PINNADI', 'RATTHAM', 'SAAPADU',\n",
       "       'THANNI', 'THERIYALA', 'THERIYUM', 'THIRA', 'THOOKKAM', 'UDAVI',\n",
       "       'VAANDHI', 'VAEGAMA', 'VALIKUDHU', 'VANAKKAM', 'VENDAAM', 'VENUM',\n",
       "       'VERKUTHU', 'VILUNTHUTEN'],\n",
       "      dtype='object')"
      ]
     },
     "execution_count": 11,
     "metadata": {},
     "output_type": "execute_result"
    }
   ],
   "source": [
    "df_test.columns"
   ]
  },
  {
   "cell_type": "markdown",
   "metadata": {
    "id": "N6EiTzrgbc8t"
   },
   "source": [
    "## Loading the data from Google Drive"
   ]
  },
  {
   "cell_type": "code",
   "execution_count": 12,
   "metadata": {
    "colab": {
     "base_uri": "https://localhost:8080/"
    },
    "id": "pyMyrE7FiYJt",
    "outputId": "2dfdf974-f9e7-4c65-fcc1-a9d1199f3f2c"
   },
   "outputs": [
    {
     "name": "stderr",
     "output_type": "stream",
     "text": [
      "100%|███████████████████████████████████████████████████████████████████████████| 18000/18000 [00:31<00:00, 580.54it/s]\n"
     ]
    }
   ],
   "source": [
    "img_width = 432\n",
    "img_height = 288\n",
    "\n",
    "X_train = []\n",
    "\n",
    "for i in tqdm(range(df_train.shape[0])):\n",
    "  ds = f\"C:/Users/GPU/Desktop/DAE CODE/DATA/ENCHANCED/{df_train['ID'][i]}.jpg\"\n",
    "  img = image.load_img(ds, target_size=(img_width, img_height, 5))\n",
    "  img = image.img_to_array(img)\n",
    "  img = cv2.resize(img,(200,200))\n",
    "\n",
    "  X_train.append(img)\n",
    "\n",
    "X_train = np.array(X_train)"
   ]
  },
  {
   "cell_type": "code",
   "execution_count": 13,
   "metadata": {
    "colab": {
     "base_uri": "https://localhost:8080/"
    },
    "id": "TbhlPZTZizXa",
    "outputId": "fb72642f-da3b-43fc-df96-1468769f40b3"
   },
   "outputs": [
    {
     "data": {
      "text/plain": [
       "(18000, 200, 200, 3)"
      ]
     },
     "execution_count": 13,
     "metadata": {},
     "output_type": "execute_result"
    }
   ],
   "source": [
    "X_train.shape"
   ]
  },
  {
   "cell_type": "code",
   "execution_count": 14,
   "metadata": {},
   "outputs": [
    {
     "name": "stderr",
     "output_type": "stream",
     "text": [
      "100%|█████████████████████████████████████████████████████████████████████████████| 1500/1500 [00:02<00:00, 653.75it/s]\n"
     ]
    }
   ],
   "source": [
    "img_width = 432\n",
    "img_height = 288\n",
    "\n",
    "X_test = []\n",
    "\n",
    "for i in tqdm(range(df_test.shape[0])):\n",
    "  dst = f\"C:/Users/GPU/Desktop/DAE CODE/DATA/TEST DATA RENAME/{df_test['ID'][i]}.jpg\"\n",
    "  imgt = image.load_img(ds, target_size=(img_width, img_height, 5))\n",
    "  imgt = image.img_to_array(imgt)\n",
    "  imgt = cv2.resize(imgt,(200,200))\n",
    "\n",
    "  X_test.append(imgt)\n",
    "\n",
    "X_test = np.array(X_test)"
   ]
  },
  {
   "cell_type": "code",
   "execution_count": 15,
   "metadata": {},
   "outputs": [
    {
     "data": {
      "text/plain": [
       "(1500, 200, 200, 3)"
      ]
     },
     "execution_count": 15,
     "metadata": {},
     "output_type": "execute_result"
    }
   ],
   "source": [
    "X_test.shape"
   ]
  },
  {
   "cell_type": "code",
   "execution_count": 16,
   "metadata": {
    "colab": {
     "base_uri": "https://localhost:8080/",
     "height": 35
    },
    "id": "V5RkrOO4i8Ac",
    "outputId": "0424692d-a86f-49ba-86bd-c44e5ea9c0e3",
    "scrolled": true
   },
   "outputs": [
    {
     "data": {
      "text/plain": [
       "'BATHROOM'"
      ]
     },
     "execution_count": 16,
     "metadata": {},
     "output_type": "execute_result"
    }
   ],
   "source": [
    "df_train['WORD'][1]"
   ]
  },
  {
   "cell_type": "code",
   "execution_count": 17,
   "metadata": {},
   "outputs": [
    {
     "data": {
      "text/plain": [
       "'BATHROOM'"
      ]
     },
     "execution_count": 17,
     "metadata": {},
     "output_type": "execute_result"
    }
   ],
   "source": [
    "df_test['WORD'][1]"
   ]
  },
  {
   "cell_type": "code",
   "execution_count": 18,
   "metadata": {
    "colab": {
     "base_uri": "https://localhost:8080/"
    },
    "id": "1K4fQRqJjItG",
    "outputId": "25098274-2ec9-4242-cf3f-8f3e4af534d2"
   },
   "outputs": [
    {
     "data": {
      "text/plain": [
       "(18000, 50)"
      ]
     },
     "execution_count": 18,
     "metadata": {},
     "output_type": "execute_result"
    }
   ],
   "source": [
    "y_train = df_train.drop(['NO','ID', 'WORD'], axis = 1)\n",
    "y_train = y_train.to_numpy()\n",
    "y_train.shape"
   ]
  },
  {
   "cell_type": "code",
   "execution_count": 19,
   "metadata": {},
   "outputs": [
    {
     "data": {
      "text/plain": [
       "(1500, 50)"
      ]
     },
     "execution_count": 19,
     "metadata": {},
     "output_type": "execute_result"
    }
   ],
   "source": [
    "y_test = df_test.drop(['NO','ID', 'WORD'], axis = 1)\n",
    "y_test = y_test.to_numpy()\n",
    "y_test.shape"
   ]
  },
  {
   "cell_type": "code",
   "execution_count": 20,
   "metadata": {},
   "outputs": [
    {
     "data": {
      "text/plain": [
       "(18000, 200, 200, 3)"
      ]
     },
     "execution_count": 20,
     "metadata": {},
     "output_type": "execute_result"
    }
   ],
   "source": [
    "X_train.shape"
   ]
  },
  {
   "cell_type": "code",
   "execution_count": 21,
   "metadata": {},
   "outputs": [
    {
     "data": {
      "text/plain": [
       "(1500, 200, 200, 3)"
      ]
     },
     "execution_count": 21,
     "metadata": {},
     "output_type": "execute_result"
    }
   ],
   "source": [
    "X_test.shape"
   ]
  },
  {
   "cell_type": "code",
   "execution_count": 22,
   "metadata": {},
   "outputs": [
    {
     "data": {
      "text/plain": [
       "(18000, 50)"
      ]
     },
     "execution_count": 22,
     "metadata": {},
     "output_type": "execute_result"
    }
   ],
   "source": [
    "y_train.shape"
   ]
  },
  {
   "cell_type": "code",
   "execution_count": 23,
   "metadata": {},
   "outputs": [
    {
     "data": {
      "text/plain": [
       "(1500, 50)"
      ]
     },
     "execution_count": 23,
     "metadata": {},
     "output_type": "execute_result"
    }
   ],
   "source": [
    "y_test.shape"
   ]
  },
  {
   "cell_type": "code",
   "execution_count": 24,
   "metadata": {
    "colab": {
     "base_uri": "https://localhost:8080/"
    },
    "id": "D56JnUi3jXCX",
    "outputId": "ce7bfb75-98eb-46f6-acfc-1214e0a23bc5",
    "scrolled": true
   },
   "outputs": [
    {
     "data": {
      "text/plain": [
       "(200, 200, 3)"
      ]
     },
     "execution_count": 24,
     "metadata": {},
     "output_type": "execute_result"
    }
   ],
   "source": [
    "X_train[0].shape"
   ]
  },
  {
   "cell_type": "markdown",
   "metadata": {
    "id": "d8Jn33ugbm2Z"
   },
   "source": [
    "## Building CNN Model"
   ]
  },
  {
   "cell_type": "code",
   "execution_count": 30,
   "metadata": {
    "id": "-ZAZBDUPjZWr"
   },
   "outputs": [],
   "source": [
    "model = Sequential()\n",
    "model.add(Conv2D(16, (3,3), activation='relu', input_shape = X_train[0].shape))\n",
    "model.add(BatchNormalization())\n",
    "model.add(MaxPool2D(2,2))\n",
    "model.add(Dropout(0.3))\n",
    "\n",
    "model.add(Conv2D(32, (3,3), activation='relu'))\n",
    "model.add(BatchNormalization())\n",
    "model.add(MaxPool2D(2,2))\n",
    "model.add(Dropout(0.3))\n",
    "\n",
    "model.add(Conv2D(64, (3,3), activation='relu'))\n",
    "model.add(BatchNormalization())\n",
    "model.add(MaxPool2D(2,2))\n",
    "model.add(Dropout(0.4))\n",
    "\n",
    "model.add(Conv2D(128, (3,3), activation='relu'))\n",
    "model.add(BatchNormalization())\n",
    "model.add(MaxPool2D(2,2))\n",
    "model.add(Dropout(0.5))\n",
    "\n",
    "model.add(Flatten())\n",
    "\n",
    "model.add(Dense(128, activation='relu'))\n",
    "model.add(BatchNormalization())\n",
    "model.add(Dropout(0.5))\n",
    "\n",
    "\n",
    "model.add(Dense(128, activation='relu'))\n",
    "model.add(BatchNormalization())\n",
    "model.add(Dropout(0.5))\n",
    "\n",
    "\n",
    "model.add(Dense(50, activation='softmax'))"
   ]
  },
  {
   "cell_type": "code",
   "execution_count": 31,
   "metadata": {
    "colab": {
     "base_uri": "https://localhost:8080/"
    },
    "id": "wD2WEEokjg6J",
    "outputId": "9ea40252-9297-48ad-b018-d613570ad86a"
   },
   "outputs": [
    {
     "name": "stdout",
     "output_type": "stream",
     "text": [
      "Model: \"sequential_1\"\n",
      "_________________________________________________________________\n",
      "Layer (type)                 Output Shape              Param #   \n",
      "=================================================================\n",
      "conv2d_4 (Conv2D)            (None, 198, 198, 16)      448       \n",
      "_________________________________________________________________\n",
      "batch_normalization_6 (Batch (None, 198, 198, 16)      64        \n",
      "_________________________________________________________________\n",
      "max_pooling2d_4 (MaxPooling2 (None, 99, 99, 16)        0         \n",
      "_________________________________________________________________\n",
      "dropout_6 (Dropout)          (None, 99, 99, 16)        0         \n",
      "_________________________________________________________________\n",
      "conv2d_5 (Conv2D)            (None, 97, 97, 32)        4640      \n",
      "_________________________________________________________________\n",
      "batch_normalization_7 (Batch (None, 97, 97, 32)        128       \n",
      "_________________________________________________________________\n",
      "max_pooling2d_5 (MaxPooling2 (None, 48, 48, 32)        0         \n",
      "_________________________________________________________________\n",
      "dropout_7 (Dropout)          (None, 48, 48, 32)        0         \n",
      "_________________________________________________________________\n",
      "conv2d_6 (Conv2D)            (None, 46, 46, 64)        18496     \n",
      "_________________________________________________________________\n",
      "batch_normalization_8 (Batch (None, 46, 46, 64)        256       \n",
      "_________________________________________________________________\n",
      "max_pooling2d_6 (MaxPooling2 (None, 23, 23, 64)        0         \n",
      "_________________________________________________________________\n",
      "dropout_8 (Dropout)          (None, 23, 23, 64)        0         \n",
      "_________________________________________________________________\n",
      "conv2d_7 (Conv2D)            (None, 21, 21, 128)       73856     \n",
      "_________________________________________________________________\n",
      "batch_normalization_9 (Batch (None, 21, 21, 128)       512       \n",
      "_________________________________________________________________\n",
      "max_pooling2d_7 (MaxPooling2 (None, 10, 10, 128)       0         \n",
      "_________________________________________________________________\n",
      "dropout_9 (Dropout)          (None, 10, 10, 128)       0         \n",
      "_________________________________________________________________\n",
      "flatten (Flatten)            (None, 12800)             0         \n",
      "_________________________________________________________________\n",
      "dense_3 (Dense)              (None, 128)               1638528   \n",
      "_________________________________________________________________\n",
      "batch_normalization_10 (Batc (None, 128)               512       \n",
      "_________________________________________________________________\n",
      "dropout_10 (Dropout)         (None, 128)               0         \n",
      "_________________________________________________________________\n",
      "dense_4 (Dense)              (None, 128)               16512     \n",
      "_________________________________________________________________\n",
      "batch_normalization_11 (Batc (None, 128)               512       \n",
      "_________________________________________________________________\n",
      "dropout_11 (Dropout)         (None, 128)               0         \n",
      "_________________________________________________________________\n",
      "dense_5 (Dense)              (None, 50)                6450      \n",
      "=================================================================\n",
      "Total params: 1,760,914\n",
      "Trainable params: 1,759,922\n",
      "Non-trainable params: 992\n",
      "_________________________________________________________________\n"
     ]
    }
   ],
   "source": [
    "model.summary()"
   ]
  },
  {
   "cell_type": "code",
   "execution_count": 32,
   "metadata": {
    "id": "Avkzrs8LjjMK"
   },
   "outputs": [],
   "source": [
    "model.compile(optimizer='adam', loss = 'categorical_crossentropy', metrics=['accuracy'])\n"
   ]
  },
  {
   "cell_type": "code",
   "execution_count": 33,
   "metadata": {},
   "outputs": [],
   "source": [
    "checkpoint_path = \"C:/Users/GPU/Desktop/DAE CODE/TAMIL 50 WORDS 16KHZ RESULT/call_back/cp.ckpt\"\n",
    "checkpoint_dir = os.path.dirname(checkpoint_path)\n",
    "\n",
    "# Create a callback that saves the model's weights\n",
    "cp_callback = tf.keras.callbacks.ModelCheckpoint(filepath=checkpoint_path,\n",
    "                                                 save_weights_only=True,\n",
    "                                                 verbose=1)"
   ]
  },
  {
   "cell_type": "code",
   "execution_count": 34,
   "metadata": {
    "scrolled": true
   },
   "outputs": [
    {
     "name": "stdout",
     "output_type": "stream",
     "text": [
      "Train on 18000 samples, validate on 1500 samples\n",
      "Epoch 1/25\n",
      "17984/18000 [============================>.] - ETA: 0s - loss: 0.3105 - accuracy: 0.8761\n",
      "Epoch 00001: saving model to C:/Users/GPU/Desktop/DAE CODE/TAMIL 50 WORDS 16KHZ RESULT/call_back/cp.ckpt\n",
      "18000/18000 [==============================] - 421s 23ms/sample - loss: 0.3104 - accuracy: 0.8762 - val_loss: 3.5933 - val_accuracy: 0.0968\n",
      "Epoch 2/25\n",
      "17984/18000 [============================>.] - ETA: 0s - loss: 0.1058 - accuracy: 0.9794\n",
      "Epoch 00002: saving model to C:/Users/GPU/Desktop/DAE CODE/TAMIL 50 WORDS 16KHZ RESULT/call_back/cp.ckpt\n",
      "18000/18000 [==============================] - 419s 23ms/sample - loss: 0.1058 - accuracy: 0.9794 - val_loss: 1.2111 - val_accuracy: 0.6920\n",
      "Epoch 3/25\n",
      "17984/18000 [============================>.] - ETA: 0s - loss: 0.0987 - accuracy: 0.9797\n",
      "Epoch 00003: saving model to C:/Users/GPU/Desktop/DAE CODE/TAMIL 50 WORDS 16KHZ RESULT/call_back/cp.ckpt\n",
      "18000/18000 [==============================] - 419s 23ms/sample - loss: 0.0987 - accuracy: 0.9797 - val_loss: 0.2172 - val_accuracy: 0.9800\n",
      "Epoch 4/25\n",
      "17984/18000 [============================>.] - ETA: 0s - loss: 0.0920 - accuracy: 0.9798\n",
      "Epoch 00004: saving model to C:/Users/GPU/Desktop/DAE CODE/TAMIL 50 WORDS 16KHZ RESULT/call_back/cp.ckpt\n",
      "18000/18000 [==============================] - 419s 23ms/sample - loss: 0.0920 - accuracy: 0.9798 - val_loss: 0.1172 - val_accuracy: 0.9800\n",
      "Epoch 5/25\n",
      "17984/18000 [============================>.] - ETA: 0s - loss: 0.0867 - accuracy: 0.9799\n",
      "Epoch 00005: saving model to C:/Users/GPU/Desktop/DAE CODE/TAMIL 50 WORDS 16KHZ RESULT/call_back/cp.ckpt\n",
      "18000/18000 [==============================] - 421s 23ms/sample - loss: 0.0867 - accuracy: 0.9799 - val_loss: 0.1168 - val_accuracy: 0.9800\n",
      "Epoch 6/25\n",
      "17984/18000 [============================>.] - ETA: 0s - loss: 0.0827 - accuracy: 0.9799\n",
      "Epoch 00006: saving model to C:/Users/GPU/Desktop/DAE CODE/TAMIL 50 WORDS 16KHZ RESULT/call_back/cp.ckpt\n",
      "18000/18000 [==============================] - 419s 23ms/sample - loss: 0.0827 - accuracy: 0.9799 - val_loss: 0.1078 - val_accuracy: 0.9800\n",
      "Epoch 7/25\n",
      "17984/18000 [============================>.] - ETA: 0s - loss: 0.0791 - accuracy: 0.9799\n",
      "Epoch 00007: saving model to C:/Users/GPU/Desktop/DAE CODE/TAMIL 50 WORDS 16KHZ RESULT/call_back/cp.ckpt\n",
      "18000/18000 [==============================] - 420s 23ms/sample - loss: 0.0791 - accuracy: 0.9799 - val_loss: 0.1107 - val_accuracy: 0.9800\n",
      "Epoch 8/25\n",
      "17984/18000 [============================>.] - ETA: 0s - loss: 0.0772 - accuracy: 0.9800\n",
      "Epoch 00008: saving model to C:/Users/GPU/Desktop/DAE CODE/TAMIL 50 WORDS 16KHZ RESULT/call_back/cp.ckpt\n",
      "18000/18000 [==============================] - 419s 23ms/sample - loss: 0.0772 - accuracy: 0.9800 - val_loss: 0.1137 - val_accuracy: 0.9800\n",
      "Epoch 9/25\n",
      "17984/18000 [============================>.] - ETA: 0s - loss: 0.0742 - accuracy: 0.9801\n",
      "Epoch 00009: saving model to C:/Users/GPU/Desktop/DAE CODE/TAMIL 50 WORDS 16KHZ RESULT/call_back/cp.ckpt\n",
      "18000/18000 [==============================] - 420s 23ms/sample - loss: 0.0742 - accuracy: 0.9801 - val_loss: 0.1168 - val_accuracy: 0.9800\n",
      "Epoch 10/25\n",
      "17984/18000 [============================>.] - ETA: 0s - loss: 0.0726 - accuracy: 0.9802\n",
      "Epoch 00010: saving model to C:/Users/GPU/Desktop/DAE CODE/TAMIL 50 WORDS 16KHZ RESULT/call_back/cp.ckpt\n",
      "18000/18000 [==============================] - 420s 23ms/sample - loss: 0.0726 - accuracy: 0.9802 - val_loss: 0.1241 - val_accuracy: 0.9800\n",
      "Epoch 11/25\n",
      "17984/18000 [============================>.] - ETA: 0s - loss: 0.0697 - accuracy: 0.9805\n",
      "Epoch 00011: saving model to C:/Users/GPU/Desktop/DAE CODE/TAMIL 50 WORDS 16KHZ RESULT/call_back/cp.ckpt\n",
      "18000/18000 [==============================] - 419s 23ms/sample - loss: 0.0697 - accuracy: 0.9805 - val_loss: 0.1248 - val_accuracy: 0.9800\n",
      "Epoch 12/25\n",
      "17984/18000 [============================>.] - ETA: 0s - loss: 0.0687 - accuracy: 0.9806\n",
      "Epoch 00012: saving model to C:/Users/GPU/Desktop/DAE CODE/TAMIL 50 WORDS 16KHZ RESULT/call_back/cp.ckpt\n",
      "18000/18000 [==============================] - 419s 23ms/sample - loss: 0.0687 - accuracy: 0.9806 - val_loss: 0.1341 - val_accuracy: 0.9800\n",
      "Epoch 13/25\n",
      "17984/18000 [============================>.] - ETA: 0s - loss: 0.0665 - accuracy: 0.9808\n",
      "Epoch 00013: saving model to C:/Users/GPU/Desktop/DAE CODE/TAMIL 50 WORDS 16KHZ RESULT/call_back/cp.ckpt\n",
      "18000/18000 [==============================] - 420s 23ms/sample - loss: 0.0665 - accuracy: 0.9808 - val_loss: 0.1440 - val_accuracy: 0.9800\n",
      "Epoch 14/25\n",
      "17984/18000 [============================>.] - ETA: 0s - loss: 0.0660 - accuracy: 0.9809\n",
      "Epoch 00014: saving model to C:/Users/GPU/Desktop/DAE CODE/TAMIL 50 WORDS 16KHZ RESULT/call_back/cp.ckpt\n",
      "18000/18000 [==============================] - 420s 23ms/sample - loss: 0.0660 - accuracy: 0.9809 - val_loss: 0.1605 - val_accuracy: 0.9608\n",
      "Epoch 15/25\n",
      "17984/18000 [============================>.] - ETA: 0s - loss: 0.0632 - accuracy: 0.9813\n",
      "Epoch 00015: saving model to C:/Users/GPU/Desktop/DAE CODE/TAMIL 50 WORDS 16KHZ RESULT/call_back/cp.ckpt\n",
      "18000/18000 [==============================] - 419s 23ms/sample - loss: 0.0632 - accuracy: 0.9813 - val_loss: 0.1601 - val_accuracy: 0.9800\n",
      "Epoch 16/25\n",
      "17984/18000 [============================>.] - ETA: 0s - loss: 0.0615 - accuracy: 0.9815\n",
      "Epoch 00016: saving model to C:/Users/GPU/Desktop/DAE CODE/TAMIL 50 WORDS 16KHZ RESULT/call_back/cp.ckpt\n",
      "18000/18000 [==============================] - 445s 25ms/sample - loss: 0.0615 - accuracy: 0.9815 - val_loss: 0.1551 - val_accuracy: 0.9800\n",
      "Epoch 17/25\n",
      "17984/18000 [============================>.] - ETA: 0s - loss: 0.0599 - accuracy: 0.9820\n",
      "Epoch 00017: saving model to C:/Users/GPU/Desktop/DAE CODE/TAMIL 50 WORDS 16KHZ RESULT/call_back/cp.ckpt\n",
      "18000/18000 [==============================] - 419s 23ms/sample - loss: 0.0599 - accuracy: 0.9820 - val_loss: 0.1714 - val_accuracy: 0.9608\n",
      "Epoch 18/25\n",
      "17984/18000 [============================>.] - ETA: 0s - loss: 0.0590 - accuracy: 0.9821\n",
      "Epoch 00018: saving model to C:/Users/GPU/Desktop/DAE CODE/TAMIL 50 WORDS 16KHZ RESULT/call_back/cp.ckpt\n",
      "18000/18000 [==============================] - 419s 23ms/sample - loss: 0.0590 - accuracy: 0.9821 - val_loss: 0.1819 - val_accuracy: 0.9608\n",
      "Epoch 19/25\n",
      "17984/18000 [============================>.] - ETA: 0s - loss: 0.0577 - accuracy: 0.9824\n",
      "Epoch 00019: saving model to C:/Users/GPU/Desktop/DAE CODE/TAMIL 50 WORDS 16KHZ RESULT/call_back/cp.ckpt\n",
      "18000/18000 [==============================] - 419s 23ms/sample - loss: 0.0577 - accuracy: 0.9824 - val_loss: 0.1821 - val_accuracy: 0.9608\n",
      "Epoch 20/25\n",
      "17984/18000 [============================>.] - ETA: 0s - loss: 0.0557 - accuracy: 0.9829\n",
      "Epoch 00020: saving model to C:/Users/GPU/Desktop/DAE CODE/TAMIL 50 WORDS 16KHZ RESULT/call_back/cp.ckpt\n",
      "18000/18000 [==============================] - 419s 23ms/sample - loss: 0.0557 - accuracy: 0.9829 - val_loss: 0.1698 - val_accuracy: 0.9800\n",
      "Epoch 21/25\n",
      "17984/18000 [============================>.] - ETA: 0s - loss: 0.0549 - accuracy: 0.9831\n",
      "Epoch 00021: saving model to C:/Users/GPU/Desktop/DAE CODE/TAMIL 50 WORDS 16KHZ RESULT/call_back/cp.ckpt\n",
      "18000/18000 [==============================] - 419s 23ms/sample - loss: 0.0549 - accuracy: 0.9831 - val_loss: 0.1912 - val_accuracy: 0.9800\n",
      "Epoch 22/25\n",
      "17984/18000 [============================>.] - ETA: 0s - loss: 0.0537 - accuracy: 0.9834\n",
      "Epoch 00022: saving model to C:/Users/GPU/Desktop/DAE CODE/TAMIL 50 WORDS 16KHZ RESULT/call_back/cp.ckpt\n",
      "18000/18000 [==============================] - 420s 23ms/sample - loss: 0.0537 - accuracy: 0.9834 - val_loss: 0.2060 - val_accuracy: 0.9608\n",
      "Epoch 23/25\n",
      "17984/18000 [============================>.] - ETA: 0s - loss: 0.0530 - accuracy: 0.9836\n",
      "Epoch 00023: saving model to C:/Users/GPU/Desktop/DAE CODE/TAMIL 50 WORDS 16KHZ RESULT/call_back/cp.ckpt\n",
      "18000/18000 [==============================] - 420s 23ms/sample - loss: 0.0530 - accuracy: 0.9836 - val_loss: 0.1938 - val_accuracy: 0.9800\n",
      "Epoch 24/25\n",
      "17984/18000 [============================>.] - ETA: 0s - loss: 0.0521 - accuracy: 0.9837\n",
      "Epoch 00024: saving model to C:/Users/GPU/Desktop/DAE CODE/TAMIL 50 WORDS 16KHZ RESULT/call_back/cp.ckpt\n",
      "18000/18000 [==============================] - 419s 23ms/sample - loss: 0.0521 - accuracy: 0.9837 - val_loss: 0.2185 - val_accuracy: 0.9608\n"
     ]
    },
    {
     "name": "stdout",
     "output_type": "stream",
     "text": [
      "Epoch 25/25\n",
      "17984/18000 [============================>.] - ETA: 0s - loss: 0.0508 - accuracy: 0.9841\n",
      "Epoch 00025: saving model to C:/Users/GPU/Desktop/DAE CODE/TAMIL 50 WORDS 16KHZ RESULT/call_back/cp.ckpt\n",
      "18000/18000 [==============================] - 419s 23ms/sample - loss: 0.0508 - accuracy: 0.9841 - val_loss: 0.2099 - val_accuracy: 0.9608\n"
     ]
    }
   ],
   "source": [
    "history = model.fit(X_train, y_train, epochs=25, validation_data=(X_test, y_test), callbacks=[cp_callback])"
   ]
  },
  {
   "cell_type": "code",
   "execution_count": null,
   "metadata": {
    "colab": {
     "base_uri": "https://localhost:8080/"
    },
    "id": "mCtlUSLCjteC",
    "outputId": "b2f92560-a60b-4a5b-ee2a-fb4dbec0663d",
    "scrolled": true
   },
   "outputs": [],
   "source": [
    "\n",
    "history = model.fit(X_train, y_train, epochs=10, validation_data=(X_test, y_test), callbacks=[cp_callback])\n"
   ]
  },
  {
   "cell_type": "code",
   "execution_count": 37,
   "metadata": {},
   "outputs": [],
   "source": [
    "model.save('E:/DYSARTHRIC SPEECH RECOGNITION/TAMIL 50 words 16khz/CNN TRAINED MODEL/FINAL CNN TRAINED MODEL 50 WORDS 16KHZ LAST/my_model.h5')"
   ]
  },
  {
   "cell_type": "code",
   "execution_count": 33,
   "metadata": {},
   "outputs": [],
   "source": [
    "# Recreate the exact same model, including its weights and the optimizer\n",
    "new_model = tf.keras.models.load_model('E:/DYSARTHRIC SPEECH RECOGNITION/TAMIL 50 words 16khz/CNN TRAINED MODEL/FINAL CNN TRAINED MODEL 50 WORDS 16KHZ/my_model.h5')\n",
    "\n"
   ]
  },
  {
   "cell_type": "code",
   "execution_count": 34,
   "metadata": {},
   "outputs": [
    {
     "name": "stdout",
     "output_type": "stream",
     "text": [
      "Model: \"sequential_1\"\n",
      "_________________________________________________________________\n",
      "Layer (type)                 Output Shape              Param #   \n",
      "=================================================================\n",
      "conv2d_4 (Conv2D)            (None, 198, 198, 16)      448       \n",
      "_________________________________________________________________\n",
      "batch_normalization_6 (Batch (None, 198, 198, 16)      64        \n",
      "_________________________________________________________________\n",
      "max_pooling2d_4 (MaxPooling2 (None, 99, 99, 16)        0         \n",
      "_________________________________________________________________\n",
      "dropout_6 (Dropout)          (None, 99, 99, 16)        0         \n",
      "_________________________________________________________________\n",
      "conv2d_5 (Conv2D)            (None, 97, 97, 32)        4640      \n",
      "_________________________________________________________________\n",
      "batch_normalization_7 (Batch (None, 97, 97, 32)        128       \n",
      "_________________________________________________________________\n",
      "max_pooling2d_5 (MaxPooling2 (None, 48, 48, 32)        0         \n",
      "_________________________________________________________________\n",
      "dropout_7 (Dropout)          (None, 48, 48, 32)        0         \n",
      "_________________________________________________________________\n",
      "conv2d_6 (Conv2D)            (None, 46, 46, 64)        18496     \n",
      "_________________________________________________________________\n",
      "batch_normalization_8 (Batch (None, 46, 46, 64)        256       \n",
      "_________________________________________________________________\n",
      "max_pooling2d_6 (MaxPooling2 (None, 23, 23, 64)        0         \n",
      "_________________________________________________________________\n",
      "dropout_8 (Dropout)          (None, 23, 23, 64)        0         \n",
      "_________________________________________________________________\n",
      "conv2d_7 (Conv2D)            (None, 21, 21, 128)       73856     \n",
      "_________________________________________________________________\n",
      "batch_normalization_9 (Batch (None, 21, 21, 128)       512       \n",
      "_________________________________________________________________\n",
      "max_pooling2d_7 (MaxPooling2 (None, 10, 10, 128)       0         \n",
      "_________________________________________________________________\n",
      "dropout_9 (Dropout)          (None, 10, 10, 128)       0         \n",
      "_________________________________________________________________\n",
      "flatten_1 (Flatten)          (None, 12800)             0         \n",
      "_________________________________________________________________\n",
      "dense_3 (Dense)              (None, 128)               1638528   \n",
      "_________________________________________________________________\n",
      "batch_normalization_10 (Batc (None, 128)               512       \n",
      "_________________________________________________________________\n",
      "dropout_10 (Dropout)         (None, 128)               0         \n",
      "_________________________________________________________________\n",
      "dense_4 (Dense)              (None, 128)               16512     \n",
      "_________________________________________________________________\n",
      "batch_normalization_11 (Batc (None, 128)               512       \n",
      "_________________________________________________________________\n",
      "dropout_11 (Dropout)         (None, 128)               0         \n",
      "_________________________________________________________________\n",
      "dense_5 (Dense)              (None, 50)                6450      \n",
      "=================================================================\n",
      "Total params: 1,760,914\n",
      "Trainable params: 1,759,922\n",
      "Non-trainable params: 992\n",
      "_________________________________________________________________\n"
     ]
    }
   ],
   "source": [
    "# Show the model architecture\n",
    "new_model.summary()"
   ]
  },
  {
   "cell_type": "code",
   "execution_count": null,
   "metadata": {},
   "outputs": [],
   "source": []
  },
  {
   "cell_type": "code",
   "execution_count": null,
   "metadata": {
    "colab": {
     "base_uri": "https://localhost:8080/",
     "height": 79,
     "resources": {
      "http://localhost:8080/nbextensions/google.colab/files.js": {
       "data": "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",
       "headers": [
        [
         "content-type",
         "application/javascript"
        ]
       ],
       "ok": true,
       "status": 200,
       "status_text": "OK"
      }
     }
    },
    "id": "pL9ZjZXdodJd",
    "outputId": "137c8292-1131-4cae-94bc-f8a94aaa428e"
   },
   "outputs": [],
   "source": [
    "from google.colab import files\n",
    "uploaded = files.upload()"
   ]
  },
  {
   "cell_type": "code",
   "execution_count": null,
   "metadata": {
    "colab": {
     "base_uri": "https://localhost:8080/",
     "height": 367
    },
    "id": "qcFqvH8wPfRZ",
    "outputId": "2da0035d-49d2-46a7-e19b-0611f43ecfd3"
   },
   "outputs": [],
   "source": [
    "img = image.load_img('Doss.jpg', target_size=(img_width, img_height, 3))\n",
    "plt.imshow(img)\n",
    "img = image.img_to_array(img)\n",
    "img = img/255.0\n",
    "\n",
    "img = img.reshape(1, img_width, img_height, 3)\n",
    "\n",
    "classes = df.columns[2:]\n",
    "print(classes)\n",
    "y_prob = model.predict(img)\n",
    "top3 = np.argsort(y_prob[0])[:-4:-1]\n",
    "\n",
    "for i in range(3):\n",
    "  print(classes[top3[i]])\n"
   ]
  },
  {
   "cell_type": "markdown",
   "metadata": {
    "id": "lvVQwaK0cJnB"
   },
   "source": [
    "### Evaluation"
   ]
  },
  {
   "cell_type": "code",
   "execution_count": 36,
   "metadata": {
    "colab": {
     "base_uri": "https://localhost:8080/"
    },
    "id": "egtnlTPAkl3F",
    "outputId": "b1d516c2-c036-4bad-991d-a0938689ef1e",
    "scrolled": true
   },
   "outputs": [
    {
     "name": "stdout",
     "output_type": "stream",
     "text": [
      "1500/1500 [==============================] - 4s 2ms/sample - loss: 0.2099 - accuracy: 0.9608\n",
      "Validation: accuracy = 0.960799  ;  loss_v = 0.209865\n",
      "Test: accuracy = 0.960799  ;  loss = 0.209865\n"
     ]
    }
   ],
   "source": [
    "loss, accuracy = model.evaluate(X_test, y_test, verbose=1)\n",
    "print(\"Validation: accuracy = %f  ;  loss_v = %f\" % (accuracy, loss))\n",
    "print(\"Test: accuracy = %f  ;  loss = %f\" % (accuracy, loss))"
   ]
  },
  {
   "cell_type": "code",
   "execution_count": 34,
   "metadata": {},
   "outputs": [
    {
     "name": "stdout",
     "output_type": "stream",
     "text": [
      "Percentage of Accuracy 96.07994556427002\n"
     ]
    }
   ],
   "source": [
    "d=100\n",
    "per=d*accuracy\n",
    "print(\"Percentage of Accuracy\",per)\n"
   ]
  },
  {
   "cell_type": "code",
   "execution_count": null,
   "metadata": {},
   "outputs": [],
   "source": []
  },
  {
   "cell_type": "code",
   "execution_count": 32,
   "metadata": {},
   "outputs": [
    {
     "data": {
      "text/plain": [
       "0.96079946"
      ]
     },
     "execution_count": 32,
     "metadata": {},
     "output_type": "execute_result"
    }
   ],
   "source": [
    "accuracy"
   ]
  },
  {
   "cell_type": "code",
   "execution_count": null,
   "metadata": {},
   "outputs": [],
   "source": []
  },
  {
   "cell_type": "code",
   "execution_count": null,
   "metadata": {},
   "outputs": [],
   "source": []
  },
  {
   "cell_type": "code",
   "execution_count": 38,
   "metadata": {},
   "outputs": [
    {
     "name": "stdout",
     "output_type": "stream",
     "text": [
      "1500/1500 [==============================] - 4s 2ms/sample - loss: 0.1600 - accuracy: 0.9608\n"
     ]
    }
   ],
   "source": [
    "y_pred = model.evaluate(X_test, y_test, verbose=1)"
   ]
  },
  {
   "cell_type": "code",
   "execution_count": null,
   "metadata": {},
   "outputs": [],
   "source": []
  },
  {
   "cell_type": "code",
   "execution_count": null,
   "metadata": {},
   "outputs": [],
   "source": []
  },
  {
   "cell_type": "code",
   "execution_count": null,
   "metadata": {},
   "outputs": [],
   "source": []
  },
  {
   "cell_type": "code",
   "execution_count": null,
   "metadata": {},
   "outputs": [],
   "source": [
    "from sklearn.metrics import confusion_matrix"
   ]
  },
  {
   "cell_type": "code",
   "execution_count": null,
   "metadata": {},
   "outputs": [],
   "source": [
    "cfm=confusion_matrix(y_test, y_pred)"
   ]
  },
  {
   "cell_type": "code",
   "execution_count": null,
   "metadata": {
    "colab": {
     "base_uri": "https://localhost:8080/"
    },
    "id": "kfgPA406Swt0",
    "outputId": "2641ffd8-80c9-401f-b783-0027eb0e3459"
   },
   "outputs": [],
   "source": [
    "d=100\n",
    "per=d*accuracy\n",
    "print(\"Percentage of Accuracy\",per)\n"
   ]
  },
  {
   "cell_type": "code",
   "execution_count": null,
   "metadata": {},
   "outputs": [],
   "source": [
    "y_pred"
   ]
  },
  {
   "cell_type": "code",
   "execution_count": null,
   "metadata": {},
   "outputs": [],
   "source": [
    "st=\"0\"*420\n",
    "#test_feat=list(st)\n",
    "ct=0\n",
    "y_test=list(st)\n",
    "for i in os.listdir('E:/15_words/Spectrograms/CNN_TEST/'):\n",
    " im=cv2.imread(\"E:/15_words/Spectrograms/CNN_TEST/\"+i)\n",
    "# temp=[]\n",
    " y_test[ct]=i[0:i.find('_')]\n",
    " \n",
    " ct+=1\n",
    " print(ct)\n",
    "\n",
    "\n",
    "#train_feat=np.asarray(train_feat)\n",
    "\n",
    "y_test=np.asarray(y)"
   ]
  },
  {
   "cell_type": "code",
   "execution_count": null,
   "metadata": {},
   "outputs": [],
   "source": [
    "y_test"
   ]
  },
  {
   "cell_type": "code",
   "execution_count": null,
   "metadata": {},
   "outputs": [],
   "source": [
    "#Since our data is in dummy format we put the numpy array into a dataframe and call idxmax axis=1 to return the column\n",
    "# label of the maximum value thus creating a categorical variable\n",
    "#Basically, flipping a dummy variable back to it’s categorical variable\n",
    "categorical_test_labels = pd.DataFrame(y_test).idxmax(axis=1)\n",
    "categorical_preds = pd.DataFrame(y_pred).idxmax(axis=1)\n",
    "confusion_matrix= confusion_matrix(categorical_test_labels, categorical_preds)\n",
    "\n",
    "#To get better visual of the confusion matrix:\n",
    "def plot_confusion_matrix(cm, classes,\n",
    "   normalize=False,\n",
    "   title='Confusion',\n",
    "   cmap=plt.cm.Blues):\n",
    " \n",
    "#Add Normalization Option\n",
    " #‘’’prints pretty confusion metric with normalization option ‘’’\n",
    "   if normalize:\n",
    "     cm = cm.astype('float') / cm.sum(axis=1)[:, np.newaxis]\n",
    "     print(“Normalized confusion matrix”)\n",
    "   else:\n",
    "     print(‘Confusion matrix, without normalization’)\n",
    " \n",
    "# print(cm)\n",
    " \n",
    "   plt.imshow(cm, interpolation=’nearest’, cmap=cmap)\n",
    "   plt.title(title)\n",
    "   plt.colorbar()\n",
    "   tick_marks = np.arange(len(classes))\n",
    "   plt.xticks(tick_marks, classes, rotation=45)\n",
    "   plt.yticks(tick_marks, classes)\n",
    " \n",
    "   fmt = ‘.2f’ if normalize else ‘d’\n",
    "   thresh = cm.max() / 2.\n",
    "   for i, j in itertools.product(range(cm.shape[0]), range(cm.shape[1])):\n",
    "      plt.text(j, i, format(cm[i, j], fmt), horizontalalignment=”center”, color=”white” if cm[i, j] > thresh else “black”)\n",
    " \n",
    "   plt.tight_layout()\n",
    "   plt.ylabel(‘True label’)\n",
    "   plt.xlabel(‘Predicted label’) "
   ]
  },
  {
   "cell_type": "code",
   "execution_count": null,
   "metadata": {},
   "outputs": [],
   "source": [
    "categorical_test_labels = pd.DataFrame(y_test).idxmax(axis=1)\n",
    "categorical_preds = pd.DataFrame(y_pred).idxmax(axis=1)\n",
    "confusion_matrix= confusion_matrix(categorical_test_labels, categorical_preds)\n"
   ]
  },
  {
   "cell_type": "code",
   "execution_count": null,
   "metadata": {},
   "outputs": [],
   "source": []
  }
 ],
 "metadata": {
  "accelerator": "GPU",
  "colab": {
   "collapsed_sections": [],
   "name": "Spectrogram_CNN.ipynb",
   "provenance": []
  },
  "kernelspec": {
   "display_name": "Python 3 (ipykernel)",
   "language": "python",
   "name": "python3"
  },
  "language_info": {
   "codemirror_mode": {
    "name": "ipython",
    "version": 3
   },
   "file_extension": ".py",
   "mimetype": "text/x-python",
   "name": "python",
   "nbconvert_exporter": "python",
   "pygments_lexer": "ipython3",
   "version": "3.7.6"
  }
 },
 "nbformat": 4,
 "nbformat_minor": 1
}
